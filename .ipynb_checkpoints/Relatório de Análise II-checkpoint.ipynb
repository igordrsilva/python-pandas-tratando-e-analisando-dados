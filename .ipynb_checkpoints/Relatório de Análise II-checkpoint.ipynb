{
 "cells": [
  {
   "cell_type": "markdown",
   "id": "cf8c174c",
   "metadata": {},
   "source": [
    "## Relatório de Análise II"
   ]
  },
  {
   "cell_type": "markdown",
   "id": "6e3b1d72",
   "metadata": {},
   "source": [
    "## Tipos de imóveis\n",
    "Identificar todos os tipos de imóveis que existem na base de dados."
   ]
  },
  {
   "cell_type": "code",
   "execution_count": null,
   "id": "d3e8e596",
   "metadata": {},
   "outputs": [],
   "source": []
  },
  {
   "cell_type": "code",
   "execution_count": null,
   "id": "deca1b09",
   "metadata": {},
   "outputs": [],
   "source": [
    "import pandas as pd\n",
    "dados = pd.read_csv()"
   ]
  }
 ],
 "metadata": {
  "kernelspec": {
   "display_name": "Python 3 (ipykernel)",
   "language": "python",
   "name": "python3"
  },
  "language_info": {
   "codemirror_mode": {
    "name": "ipython",
    "version": 3
   },
   "file_extension": ".py",
   "mimetype": "text/x-python",
   "name": "python",
   "nbconvert_exporter": "python",
   "pygments_lexer": "ipython3",
   "version": "3.9.12"
  }
 },
 "nbformat": 4,
 "nbformat_minor": 5
}
